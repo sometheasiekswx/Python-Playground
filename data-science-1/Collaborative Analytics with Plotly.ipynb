{
 "cells": [
  {
   "cell_type": "markdown",
   "metadata": {},
   "source": [
    "# Chapter 7 - Collaborative Analytics with Plotly\n",
    "## Segment 1 - Creating basic charts\n",
    "### Setting up to use Plotly within Jupyter"
   ]
  },
  {
   "cell_type": "code",
   "execution_count": 1,
   "metadata": {},
   "outputs": [
    {
     "name": "stdout",
     "output_type": "stream",
     "text": [
      "Requirement already satisfied: Plotly in /Users/sometheasiek/anaconda3/lib/python3.7/site-packages (4.6.0)\n",
      "Requirement already satisfied: six in /Users/sometheasiek/anaconda3/lib/python3.7/site-packages (from Plotly) (1.12.0)\n",
      "Requirement already satisfied: retrying>=1.3.3 in /Users/sometheasiek/anaconda3/lib/python3.7/site-packages (from Plotly) (1.3.3)\n",
      "Note: you may need to restart the kernel to use updated packages.\n"
     ]
    }
   ],
   "source": [
    "pip install Plotly"
   ]
  },
  {
   "cell_type": "code",
   "execution_count": 2,
   "metadata": {},
   "outputs": [
    {
     "name": "stdout",
     "output_type": "stream",
     "text": [
      "Requirement already satisfied: chart_studio in /Users/sometheasiek/anaconda3/lib/python3.7/site-packages (1.1.0)\n",
      "Requirement already satisfied: plotly in /Users/sometheasiek/anaconda3/lib/python3.7/site-packages (from chart_studio) (4.6.0)\n",
      "Requirement already satisfied: six in /Users/sometheasiek/anaconda3/lib/python3.7/site-packages (from chart_studio) (1.12.0)\n",
      "Requirement already satisfied: requests in /Users/sometheasiek/anaconda3/lib/python3.7/site-packages (from chart_studio) (2.22.0)\n",
      "Requirement already satisfied: retrying>=1.3.3 in /Users/sometheasiek/anaconda3/lib/python3.7/site-packages (from chart_studio) (1.3.3)\n",
      "Requirement already satisfied: urllib3!=1.25.0,!=1.25.1,<1.26,>=1.21.1 in /Users/sometheasiek/anaconda3/lib/python3.7/site-packages (from requests->chart_studio) (1.24.2)\n",
      "Requirement already satisfied: certifi>=2017.4.17 in /Users/sometheasiek/anaconda3/lib/python3.7/site-packages (from requests->chart_studio) (2019.6.16)\n",
      "Requirement already satisfied: idna<2.9,>=2.5 in /Users/sometheasiek/anaconda3/lib/python3.7/site-packages (from requests->chart_studio) (2.8)\n",
      "Requirement already satisfied: chardet<3.1.0,>=3.0.2 in /Users/sometheasiek/anaconda3/lib/python3.7/site-packages (from requests->chart_studio) (3.0.4)\n",
      "Note: you may need to restart the kernel to use updated packages.\n"
     ]
    }
   ],
   "source": [
    "pip install chart_studio"
   ]
  },
  {
   "cell_type": "code",
   "execution_count": 3,
   "metadata": {},
   "outputs": [
    {
     "name": "stdout",
     "output_type": "stream",
     "text": [
      "Requirement already satisfied: cufflinks in /Users/sometheasiek/anaconda3/lib/python3.7/site-packages (0.17.3)\n",
      "Requirement already satisfied: ipywidgets>=7.0.0 in /Users/sometheasiek/anaconda3/lib/python3.7/site-packages (from cufflinks) (7.5.0)\n",
      "Requirement already satisfied: setuptools>=34.4.1 in /Users/sometheasiek/anaconda3/lib/python3.7/site-packages (from cufflinks) (41.0.1)\n",
      "Requirement already satisfied: ipython>=5.3.0 in /Users/sometheasiek/anaconda3/lib/python3.7/site-packages (from cufflinks) (7.6.1)\n",
      "Requirement already satisfied: pandas>=0.19.2 in /Users/sometheasiek/anaconda3/lib/python3.7/site-packages (from cufflinks) (0.24.2)\n",
      "Requirement already satisfied: numpy>=1.9.2 in /Users/sometheasiek/anaconda3/lib/python3.7/site-packages (from cufflinks) (1.16.4)\n",
      "Requirement already satisfied: colorlover>=0.2.1 in /Users/sometheasiek/anaconda3/lib/python3.7/site-packages (from cufflinks) (0.3.0)\n",
      "Requirement already satisfied: plotly>=4.1.1 in /Users/sometheasiek/anaconda3/lib/python3.7/site-packages (from cufflinks) (4.6.0)\n",
      "Requirement already satisfied: six>=1.9.0 in /Users/sometheasiek/anaconda3/lib/python3.7/site-packages (from cufflinks) (1.12.0)\n",
      "Requirement already satisfied: widgetsnbextension~=3.5.0 in /Users/sometheasiek/anaconda3/lib/python3.7/site-packages (from ipywidgets>=7.0.0->cufflinks) (3.5.0)\n",
      "Requirement already satisfied: nbformat>=4.2.0 in /Users/sometheasiek/anaconda3/lib/python3.7/site-packages (from ipywidgets>=7.0.0->cufflinks) (4.4.0)\n",
      "Requirement already satisfied: ipykernel>=4.5.1 in /Users/sometheasiek/anaconda3/lib/python3.7/site-packages (from ipywidgets>=7.0.0->cufflinks) (5.1.1)\n",
      "Requirement already satisfied: traitlets>=4.3.1 in /Users/sometheasiek/anaconda3/lib/python3.7/site-packages (from ipywidgets>=7.0.0->cufflinks) (4.3.2)\n",
      "Requirement already satisfied: pexpect; sys_platform != \"win32\" in /Users/sometheasiek/anaconda3/lib/python3.7/site-packages (from ipython>=5.3.0->cufflinks) (4.7.0)\n",
      "Requirement already satisfied: jedi>=0.10 in /Users/sometheasiek/anaconda3/lib/python3.7/site-packages (from ipython>=5.3.0->cufflinks) (0.13.3)\n",
      "Requirement already satisfied: appnope; sys_platform == \"darwin\" in /Users/sometheasiek/anaconda3/lib/python3.7/site-packages (from ipython>=5.3.0->cufflinks) (0.1.0)\n",
      "Requirement already satisfied: decorator in /Users/sometheasiek/anaconda3/lib/python3.7/site-packages (from ipython>=5.3.0->cufflinks) (4.4.0)\n",
      "Requirement already satisfied: prompt-toolkit<2.1.0,>=2.0.0 in /Users/sometheasiek/anaconda3/lib/python3.7/site-packages (from ipython>=5.3.0->cufflinks) (2.0.9)\n",
      "Requirement already satisfied: pygments in /Users/sometheasiek/anaconda3/lib/python3.7/site-packages (from ipython>=5.3.0->cufflinks) (2.4.2)\n",
      "Requirement already satisfied: backcall in /Users/sometheasiek/anaconda3/lib/python3.7/site-packages (from ipython>=5.3.0->cufflinks) (0.1.0)\n",
      "Requirement already satisfied: pickleshare in /Users/sometheasiek/anaconda3/lib/python3.7/site-packages (from ipython>=5.3.0->cufflinks) (0.7.5)\n",
      "Requirement already satisfied: python-dateutil>=2.5.0 in /Users/sometheasiek/anaconda3/lib/python3.7/site-packages (from pandas>=0.19.2->cufflinks) (2.8.0)\n",
      "Requirement already satisfied: pytz>=2011k in /Users/sometheasiek/anaconda3/lib/python3.7/site-packages (from pandas>=0.19.2->cufflinks) (2019.1)\n",
      "Requirement already satisfied: retrying>=1.3.3 in /Users/sometheasiek/anaconda3/lib/python3.7/site-packages (from plotly>=4.1.1->cufflinks) (1.3.3)\n",
      "Requirement already satisfied: notebook>=4.4.1 in /Users/sometheasiek/anaconda3/lib/python3.7/site-packages (from widgetsnbextension~=3.5.0->ipywidgets>=7.0.0->cufflinks) (6.0.0)\n",
      "Requirement already satisfied: jupyter-core in /Users/sometheasiek/anaconda3/lib/python3.7/site-packages (from nbformat>=4.2.0->ipywidgets>=7.0.0->cufflinks) (4.5.0)\n",
      "Requirement already satisfied: jsonschema!=2.5.0,>=2.4 in /Users/sometheasiek/anaconda3/lib/python3.7/site-packages (from nbformat>=4.2.0->ipywidgets>=7.0.0->cufflinks) (3.0.1)\n",
      "Requirement already satisfied: ipython-genutils in /Users/sometheasiek/anaconda3/lib/python3.7/site-packages (from nbformat>=4.2.0->ipywidgets>=7.0.0->cufflinks) (0.2.0)\n",
      "Requirement already satisfied: jupyter-client in /Users/sometheasiek/anaconda3/lib/python3.7/site-packages (from ipykernel>=4.5.1->ipywidgets>=7.0.0->cufflinks) (5.3.1)\n",
      "Requirement already satisfied: tornado>=4.2 in /Users/sometheasiek/anaconda3/lib/python3.7/site-packages (from ipykernel>=4.5.1->ipywidgets>=7.0.0->cufflinks) (6.0.3)\n",
      "Requirement already satisfied: ptyprocess>=0.5 in /Users/sometheasiek/anaconda3/lib/python3.7/site-packages (from pexpect; sys_platform != \"win32\"->ipython>=5.3.0->cufflinks) (0.6.0)\n",
      "Requirement already satisfied: parso>=0.3.0 in /Users/sometheasiek/anaconda3/lib/python3.7/site-packages (from jedi>=0.10->ipython>=5.3.0->cufflinks) (0.5.0)\n",
      "Requirement already satisfied: wcwidth in /Users/sometheasiek/anaconda3/lib/python3.7/site-packages (from prompt-toolkit<2.1.0,>=2.0.0->ipython>=5.3.0->cufflinks) (0.1.7)\n",
      "Requirement already satisfied: pyzmq>=17 in /Users/sometheasiek/anaconda3/lib/python3.7/site-packages (from notebook>=4.4.1->widgetsnbextension~=3.5.0->ipywidgets>=7.0.0->cufflinks) (18.0.0)\n",
      "Requirement already satisfied: terminado>=0.8.1 in /Users/sometheasiek/anaconda3/lib/python3.7/site-packages (from notebook>=4.4.1->widgetsnbextension~=3.5.0->ipywidgets>=7.0.0->cufflinks) (0.8.2)\n",
      "Requirement already satisfied: prometheus-client in /Users/sometheasiek/anaconda3/lib/python3.7/site-packages (from notebook>=4.4.1->widgetsnbextension~=3.5.0->ipywidgets>=7.0.0->cufflinks) (0.7.1)\n",
      "Requirement already satisfied: nbconvert in /Users/sometheasiek/anaconda3/lib/python3.7/site-packages (from notebook>=4.4.1->widgetsnbextension~=3.5.0->ipywidgets>=7.0.0->cufflinks) (5.5.0)\n",
      "Requirement already satisfied: Send2Trash in /Users/sometheasiek/anaconda3/lib/python3.7/site-packages (from notebook>=4.4.1->widgetsnbextension~=3.5.0->ipywidgets>=7.0.0->cufflinks) (1.5.0)\n",
      "Requirement already satisfied: jinja2 in /Users/sometheasiek/anaconda3/lib/python3.7/site-packages (from notebook>=4.4.1->widgetsnbextension~=3.5.0->ipywidgets>=7.0.0->cufflinks) (2.10.1)\n",
      "Requirement already satisfied: attrs>=17.4.0 in /Users/sometheasiek/anaconda3/lib/python3.7/site-packages (from jsonschema!=2.5.0,>=2.4->nbformat>=4.2.0->ipywidgets>=7.0.0->cufflinks) (19.1.0)\n",
      "Requirement already satisfied: pyrsistent>=0.14.0 in /Users/sometheasiek/anaconda3/lib/python3.7/site-packages (from jsonschema!=2.5.0,>=2.4->nbformat>=4.2.0->ipywidgets>=7.0.0->cufflinks) (0.14.11)\n",
      "Requirement already satisfied: pandocfilters>=1.4.1 in /Users/sometheasiek/anaconda3/lib/python3.7/site-packages (from nbconvert->notebook>=4.4.1->widgetsnbextension~=3.5.0->ipywidgets>=7.0.0->cufflinks) (1.4.2)\n",
      "Requirement already satisfied: bleach in /Users/sometheasiek/anaconda3/lib/python3.7/site-packages (from nbconvert->notebook>=4.4.1->widgetsnbextension~=3.5.0->ipywidgets>=7.0.0->cufflinks) (3.1.0)\n",
      "Requirement already satisfied: defusedxml in /Users/sometheasiek/anaconda3/lib/python3.7/site-packages (from nbconvert->notebook>=4.4.1->widgetsnbextension~=3.5.0->ipywidgets>=7.0.0->cufflinks) (0.6.0)\n",
      "Requirement already satisfied: entrypoints>=0.2.2 in /Users/sometheasiek/anaconda3/lib/python3.7/site-packages (from nbconvert->notebook>=4.4.1->widgetsnbextension~=3.5.0->ipywidgets>=7.0.0->cufflinks) (0.3)\n",
      "Requirement already satisfied: testpath in /Users/sometheasiek/anaconda3/lib/python3.7/site-packages (from nbconvert->notebook>=4.4.1->widgetsnbextension~=3.5.0->ipywidgets>=7.0.0->cufflinks) (0.4.2)\n",
      "Requirement already satisfied: mistune>=0.8.1 in /Users/sometheasiek/anaconda3/lib/python3.7/site-packages (from nbconvert->notebook>=4.4.1->widgetsnbextension~=3.5.0->ipywidgets>=7.0.0->cufflinks) (0.8.4)\n",
      "Requirement already satisfied: MarkupSafe>=0.23 in /Users/sometheasiek/anaconda3/lib/python3.7/site-packages (from jinja2->notebook>=4.4.1->widgetsnbextension~=3.5.0->ipywidgets>=7.0.0->cufflinks) (1.1.1)\n",
      "Requirement already satisfied: webencodings in /Users/sometheasiek/anaconda3/lib/python3.7/site-packages (from bleach->nbconvert->notebook>=4.4.1->widgetsnbextension~=3.5.0->ipywidgets>=7.0.0->cufflinks) (0.5.1)\n",
      "Note: you may need to restart the kernel to use updated packages.\n"
     ]
    }
   ],
   "source": [
    "pip install cufflinks"
   ]
  },
  {
   "cell_type": "code",
   "execution_count": 4,
   "metadata": {},
   "outputs": [],
   "source": [
    "import numpy as np\n",
    "import pandas as pd\n",
    "\n",
    "import cufflinks as cf\n",
    "\n",
    "# # Deprecated\n",
    "# import plotly.plotly as py\n",
    "# import plotly.tools as tls\n",
    "# import plotly.graph_objs as go\n",
    "\n",
    "import chart_studio.plotly as py \n",
    "import chart_studio.tools as tls\n",
    "import plotly.graph_objs as go"
   ]
  },
  {
   "cell_type": "code",
   "execution_count": 5,
   "metadata": {},
   "outputs": [],
   "source": [
    "tls.set_credentials_file(username = 'sometheasiekswx', api_key = 'u35NYmk1L5mjz65GVjkx')"
   ]
  },
  {
   "cell_type": "markdown",
   "metadata": {},
   "source": [
    "### Creating line charts"
   ]
  },
  {
   "cell_type": "markdown",
   "metadata": {},
   "source": [
    "#### A very basic line chart"
   ]
  },
  {
   "cell_type": "code",
   "execution_count": 6,
   "metadata": {},
   "outputs": [
    {
     "name": "stdout",
     "output_type": "stream",
     "text": [
      "a: [ 0.          1.02857143  2.05714286  3.08571429  4.11428571  5.14285714\n",
      "  6.17142857  7.2         8.22857143  9.25714286 10.28571429 11.31428571\n",
      " 12.34285714 13.37142857 14.4        15.42857143 16.45714286 17.48571429\n",
      " 18.51428571 19.54285714 20.57142857 21.6        22.62857143 23.65714286\n",
      " 24.68571429 25.71428571 26.74285714 27.77142857 28.8        29.82857143\n",
      " 30.85714286 31.88571429 32.91428571 33.94285714 34.97142857 36.        ]\n",
      "b: [0.87012414 0.58227693 0.27883894 0.18591123 0.41110013 0.11737555\n",
      " 0.68496874 0.43761106 0.55622933 0.36708032 0.40236573 0.1130407\n",
      " 0.44703085 0.58544512 0.1619851  0.52071879 0.32605113 0.69918624\n",
      " 0.36639455 0.83637451 0.48134294 0.5165023  0.38304813 0.9975409\n",
      " 0.51424449 0.55905327 0.03444977 0.71993003 0.42100355 0.43693513\n",
      " 0.28170075 0.90027434 0.66961228 0.45606875 0.28980434 0.52581896]\n",
      "Scatter({\n",
      "    'x': array([ 0.        ,  1.02857143,  2.05714286,  3.08571429,  4.11428571,\n",
      "                 5.14285714,  6.17142857,  7.2       ,  8.22857143,  9.25714286,\n",
      "                10.28571429, 11.31428571, 12.34285714, 13.37142857, 14.4       ,\n",
      "                15.42857143, 16.45714286, 17.48571429, 18.51428571, 19.54285714,\n",
      "                20.57142857, 21.6       , 22.62857143, 23.65714286, 24.68571429,\n",
      "                25.71428571, 26.74285714, 27.77142857, 28.8       , 29.82857143,\n",
      "                30.85714286, 31.88571429, 32.91428571, 33.94285714, 34.97142857,\n",
      "                36.        ]),\n",
      "    'y': array([0.87012414, 0.58227693, 0.27883894, 0.18591123, 0.41110013, 0.11737555,\n",
      "                0.68496874, 0.43761106, 0.55622933, 0.36708032, 0.40236573, 0.1130407 ,\n",
      "                0.44703085, 0.58544512, 0.1619851 , 0.52071879, 0.32605113, 0.69918624,\n",
      "                0.36639455, 0.83637451, 0.48134294, 0.5165023 , 0.38304813, 0.9975409 ,\n",
      "                0.51424449, 0.55905327, 0.03444977, 0.71993003, 0.42100355, 0.43693513,\n",
      "                0.28170075, 0.90027434, 0.66961228, 0.45606875, 0.28980434, 0.52581896])\n",
      "})\n",
      "[Scatter({\n",
      "    'x': array([ 0.        ,  1.02857143,  2.05714286,  3.08571429,  4.11428571,\n",
      "                 5.14285714,  6.17142857,  7.2       ,  8.22857143,  9.25714286,\n",
      "                10.28571429, 11.31428571, 12.34285714, 13.37142857, 14.4       ,\n",
      "                15.42857143, 16.45714286, 17.48571429, 18.51428571, 19.54285714,\n",
      "                20.57142857, 21.6       , 22.62857143, 23.65714286, 24.68571429,\n",
      "                25.71428571, 26.74285714, 27.77142857, 28.8       , 29.82857143,\n",
      "                30.85714286, 31.88571429, 32.91428571, 33.94285714, 34.97142857,\n",
      "                36.        ]),\n",
      "    'y': array([0.87012414, 0.58227693, 0.27883894, 0.18591123, 0.41110013, 0.11737555,\n",
      "                0.68496874, 0.43761106, 0.55622933, 0.36708032, 0.40236573, 0.1130407 ,\n",
      "                0.44703085, 0.58544512, 0.1619851 , 0.52071879, 0.32605113, 0.69918624,\n",
      "                0.36639455, 0.83637451, 0.48134294, 0.5165023 , 0.38304813, 0.9975409 ,\n",
      "                0.51424449, 0.55905327, 0.03444977, 0.71993003, 0.42100355, 0.43693513,\n",
      "                0.28170075, 0.90027434, 0.66961228, 0.45606875, 0.28980434, 0.52581896])\n",
      "})]\n"
     ]
    },
    {
     "data": {
      "text/html": [
       "\n",
       "        <iframe\n",
       "            width=\"100%\"\n",
       "            height=\"525px\"\n",
       "            src=\"https://plotly.com/~sometheasiekswx/1.embed\"\n",
       "            frameborder=\"0\"\n",
       "            allowfullscreen\n",
       "        ></iframe>\n",
       "        "
      ],
      "text/plain": [
       "<IPython.lib.display.IFrame at 0x1c217d7ac8>"
      ]
     },
     "execution_count": 6,
     "metadata": {},
     "output_type": "execute_result"
    }
   ],
   "source": [
    "a = np.linspace(start=0, stop=36, num=36)\n",
    "print('a:', a)\n",
    "\n",
    "np.random.seed(25)\n",
    "b = np.random.uniform(low=0.0, high=1.0, size=36)\n",
    "print('b:', b)\n",
    "\n",
    "trace = go.Scatter(x=a, y=b)\n",
    "print(trace)\n",
    "data = [trace]\n",
    "print(data)\n",
    "py.iplot(data, filename=\"basic-line-chart\")"
   ]
  },
  {
   "cell_type": "markdown",
   "metadata": {},
   "source": [
    "#### A line chart from a pandas dataframe "
   ]
  },
  {
   "cell_type": "code",
   "execution_count": 7,
   "metadata": {},
   "outputs": [
    {
     "name": "stdout",
     "output_type": "stream",
     "text": [
      "{'title': 'Chart from Pandas DataFrame', 'xaxis': {'title': 'x-axis'}, 'yaxis': {'title': 'y-axis'}}\n"
     ]
    },
    {
     "data": {
      "text/html": [
       "\n",
       "        <iframe\n",
       "            width=\"100%\"\n",
       "            height=\"525px\"\n",
       "            src=\"https://plotly.com/~sometheasiekswx/5.embed\"\n",
       "            frameborder=\"0\"\n",
       "            allowfullscreen\n",
       "        ></iframe>\n",
       "        "
      ],
      "text/plain": [
       "<IPython.lib.display.IFrame at 0x1c239bd518>"
      ]
     },
     "execution_count": 7,
     "metadata": {},
     "output_type": "execute_result"
    }
   ],
   "source": [
    "address = '/Users/sometheasiek/Documents/PsychPress/Ex_Files_Python_Data_Science_EssT_Pt_1/Exercise Files/Data/mtcars.csv'\n",
    "\n",
    "cars = pd.read_csv(address)\n",
    "cars.columns = ['car_names','mpg','cyl','disp', 'hp', 'drat', 'wt', 'qsec', 'vs', 'am', 'gear', 'carb']\n",
    "\n",
    "df = cars[['cyl', 'wt','mpg']]\n",
    "\n",
    "layout = dict(title='Chart from Pandas DataFrame', xaxis=dict(title='x-axis'), yaxis=dict(title='y-axis'))\n",
    "print(layout)\n",
    "df.iplot(filename='cf-simple-line-chart', layout=layout)"
   ]
  },
  {
   "cell_type": "markdown",
   "metadata": {},
   "source": [
    "### Creating bar charts"
   ]
  },
  {
   "cell_type": "code",
   "execution_count": 9,
   "metadata": {},
   "outputs": [
    {
     "data": {
      "text/plain": [
       "[Bar({\n",
       "     'x': [1, 2, 3, 4, 5, 6, 7, 8, 9, 10], 'y': [1, 2, 3, 4, 0.5, 4, 3, 2, 1]\n",
       " })]"
      ]
     },
     "execution_count": 9,
     "metadata": {},
     "output_type": "execute_result"
    }
   ],
   "source": [
    "data = [go.Bar(x=[1,2,3,4,5,6,7,8,9,10], y=[1,2,3,4,0.5,4,3,2,1])]\n",
    "data"
   ]
  },
  {
   "cell_type": "code",
   "execution_count": 12,
   "metadata": {},
   "outputs": [
    {
     "data": {
      "text/plain": [
       "{'title': 'Simple Bar Chart',\n",
       " 'xaxis': {'title': 'x-axis'},\n",
       " 'yaxis': {'title': 'y-axis'}}"
      ]
     },
     "execution_count": 12,
     "metadata": {},
     "output_type": "execute_result"
    }
   ],
   "source": [
    "layout = dict(title='Simple Bar Chart',\n",
    "             xaxis=dict(title='x-axis'), yaxis=dict(title='y-axis'))\n",
    "layout"
   ]
  },
  {
   "cell_type": "code",
   "execution_count": 16,
   "metadata": {},
   "outputs": [
    {
     "data": {
      "text/html": [
       "\n",
       "        <iframe\n",
       "            width=\"100%\"\n",
       "            height=\"525px\"\n",
       "            src=\"https://plotly.com/~sometheasiekswx/14.embed\"\n",
       "            frameborder=\"0\"\n",
       "            allowfullscreen\n",
       "        ></iframe>\n",
       "        "
      ],
      "text/plain": [
       "<IPython.lib.display.IFrame at 0x1c2f60b908>"
      ]
     },
     "execution_count": 16,
     "metadata": {},
     "output_type": "execute_result"
    }
   ],
   "source": [
    "py.iplot(data, filname='simple-bar-chart', layout=layout)"
   ]
  },
  {
   "cell_type": "markdown",
   "metadata": {},
   "source": [
    "### Creating pie charts"
   ]
  },
  {
   "cell_type": "code",
   "execution_count": 21,
   "metadata": {},
   "outputs": [
    {
     "data": {
      "text/html": [
       "\n",
       "        <iframe\n",
       "            width=\"100%\"\n",
       "            height=\"525px\"\n",
       "            src=\"https://plotly.com/~sometheasiekswx/16.embed\"\n",
       "            frameborder=\"0\"\n",
       "            allowfullscreen\n",
       "        ></iframe>\n",
       "        "
      ],
      "text/plain": [
       "<IPython.lib.display.IFrame at 0x1c2fa3e1d0>"
      ]
     },
     "execution_count": 21,
     "metadata": {},
     "output_type": "execute_result"
    }
   ],
   "source": [
    "fig = {\n",
    "    'data': [\n",
    "        {\n",
    "            'labels': ['bike', 'car', 'bus', 'train'],\n",
    "            'values':[5,3,6,1], \n",
    "            'type':'pie'\n",
    "        }\n",
    "    ],\n",
    "    'layout': {'title': 'Simple Pie Chart'}\n",
    "      }\n",
    "py.iplot(fig)"
   ]
  },
  {
   "cell_type": "code",
   "execution_count": null,
   "metadata": {},
   "outputs": [],
   "source": []
  }
 ],
 "metadata": {
  "anaconda-cloud": {},
  "kernelspec": {
   "display_name": "Python 3",
   "language": "python",
   "name": "python3"
  },
  "language_info": {
   "codemirror_mode": {
    "name": "ipython",
    "version": 3
   },
   "file_extension": ".py",
   "mimetype": "text/x-python",
   "name": "python",
   "nbconvert_exporter": "python",
   "pygments_lexer": "ipython3",
   "version": "3.7.3"
  }
 },
 "nbformat": 4,
 "nbformat_minor": 1
}
