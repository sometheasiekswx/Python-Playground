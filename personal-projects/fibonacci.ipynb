{
 "cells": [
  {
   "cell_type": "code",
   "execution_count": 152,
   "metadata": {},
   "outputs": [],
   "source": [
    "import time\n",
    "\n",
    "\n",
    "class Fibonacci:\n",
    "\n",
    "    def __init__(self, n):\n",
    "        self.n = n\n",
    "\n",
    "    def test(self):\n",
    "        self.test_algorithm(self.fast_doubling);\n",
    "#         self.test_algorithm(self.memoization);\n",
    "#         self.test_algorithm(self.dynamic);\n",
    "        \n",
    "    \n",
    "    def test_algorithm(self, algorithm):  \n",
    "        try:\n",
    "            name = str(algorithm).split(' ')[2]\n",
    "            print(f'----- {name} -----')\n",
    "            start_time = time.time()\n",
    "            print(f'Answer: {str(algorithm(self.n))[:100]}...')\n",
    "            end_time = time.time()\n",
    "            complete_time = end_time - start_time\n",
    "            print(f'Time: {complete_time}')\n",
    "            return complete_time\n",
    "        except RecursionError:\n",
    "            print('Recursion Error!')\n",
    "            \n",
    "    def dynamic(self, n):\n",
    "        new, old = 1, 0\n",
    "        for i in range(n):\n",
    "            new, old = old, new + old\n",
    "        return old\n",
    "        \n",
    "    def memoization(self, n, computed={0: 0, 1: 1}):\n",
    "        \"\"\"\n",
    "        https://stackoverflow.com/questions/18172257/efficient-calculation-of-fibonacci-series\n",
    "        \"\"\"\n",
    "        \n",
    "        if n not in computed:\n",
    "            computed[n] = self.memoization(n-1, computed) + self.memoization(n-2, computed)\n",
    "        return computed[n]\n",
    "\n",
    "    def fast_doubling(self, n):\n",
    "        \"\"\"\n",
    "        Fast doubling Fibonacci algorithm (Python)\n",
    "        \n",
    "        (Public) Returns F(n).\n",
    "\n",
    "        Copyright (c) 2015 Project Nayuki\n",
    "        All rights reserved. Contact Nayuki for licensing.\n",
    "        https://www.nayuki.io/page/fast-fibonacci-algorithms\n",
    "        \"\"\"\n",
    "        \n",
    "        if n < 0:\n",
    "            raise ValueError(\"Negative arguments not implemented\")\n",
    "        return self._fast_doubling(n)[0]\n",
    "\n",
    "\n",
    "    def _fast_doubling(self, n):\n",
    "        \"\"\"\n",
    "        (Private) Returns the tuple (F(n), F(n+1)).\n",
    "        \"\"\"\n",
    "        \n",
    "        if n == 0:\n",
    "            return 0, 1\n",
    "        else:\n",
    "            a, b = self._fast_doubling(n // 2)\n",
    "            c = a * (b * 2 - a)\n",
    "            d = a * a + b * b\n",
    "            if n % 2 == 0:\n",
    "                return c, d\n",
    "            else:\n",
    "                return d, c + d"
   ]
  },
  {
   "cell_type": "code",
   "execution_count": 153,
   "metadata": {},
   "outputs": [],
   "source": [
    "fib = Fibonacci(10000000)"
   ]
  },
  {
   "cell_type": "code",
   "execution_count": 154,
   "metadata": {},
   "outputs": [
    {
     "name": "stdout",
     "output_type": "stream",
     "text": [
      "----- Fibonacci.fast_doubling -----\n",
      "Answer: 1129834378225399760317063637745866372944837190489040881513577643245534731167933137524219777458247745...\n",
      "Time: 58.700268030166626\n"
     ]
    }
   ],
   "source": [
    "fib.test()"
   ]
  },
  {
   "cell_type": "code",
   "execution_count": null,
   "metadata": {},
   "outputs": [],
   "source": []
  },
  {
   "cell_type": "code",
   "execution_count": null,
   "metadata": {},
   "outputs": [],
   "source": []
  }
 ],
 "metadata": {
  "kernelspec": {
   "display_name": "Python 3.7.4 64-bit",
   "language": "python",
   "name": "python37464bit0758c809402b4ef99780326ec3059626"
  },
  "language_info": {
   "codemirror_mode": {
    "name": "ipython",
    "version": 3
   },
   "file_extension": ".py",
   "mimetype": "text/x-python",
   "name": "python",
   "nbconvert_exporter": "python",
   "pygments_lexer": "ipython3",
   "version": "3.7.4"
  }
 },
 "nbformat": 4,
 "nbformat_minor": 1
}
