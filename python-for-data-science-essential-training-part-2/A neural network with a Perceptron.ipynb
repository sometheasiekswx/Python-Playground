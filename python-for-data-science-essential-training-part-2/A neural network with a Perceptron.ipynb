{
 "cells": [
  {
   "cell_type": "markdown",
   "metadata": {},
   "source": [
    "# Chapter 6 - Other Popular Machine Learning Methods\n",
    "## Segment 2 - A neural network with a Perceptron"
   ]
  },
  {
   "cell_type": "code",
   "execution_count": 2,
   "metadata": {},
   "outputs": [],
   "source": [
    "import numpy as np\n",
    "import pandas as pd\n",
    "import sklearn\n",
    "\n",
    "from pandas import Series, DataFrame\n",
    "from sklearn import datasets\n",
    "from sklearn.preprocessing import StandardScaler\n",
    "from sklearn.model_selection import train_test_split\n",
    "from sklearn.metrics import confusion_matrix, classification_report"
   ]
  },
  {
   "cell_type": "code",
   "execution_count": 3,
   "metadata": {},
   "outputs": [],
   "source": [
    "from sklearn.linear_model import Perceptron"
   ]
  },
  {
   "cell_type": "code",
   "execution_count": 5,
   "metadata": {},
   "outputs": [
    {
     "data": {
      "text/plain": [
       "array([[5.1, 3.5, 1.4, 0.2],\n",
       "       [4.9, 3. , 1.4, 0.2],\n",
       "       [4.7, 3.2, 1.3, 0.2],\n",
       "       [4.6, 3.1, 1.5, 0.2],\n",
       "       [5. , 3.6, 1.4, 0.2],\n",
       "       [5.4, 3.9, 1.7, 0.4],\n",
       "       [4.6, 3.4, 1.4, 0.3],\n",
       "       [5. , 3.4, 1.5, 0.2],\n",
       "       [4.4, 2.9, 1.4, 0.2],\n",
       "       [4.9, 3.1, 1.5, 0.1]])"
      ]
     },
     "execution_count": 5,
     "metadata": {},
     "output_type": "execute_result"
    }
   ],
   "source": [
    "iris = datasets.load_iris()\n",
    "\n",
    "X = iris.data\n",
    "y = iris.target\n",
    "\n",
    "X[0:10,]"
   ]
  },
  {
   "cell_type": "code",
   "execution_count": 6,
   "metadata": {},
   "outputs": [],
   "source": [
    "X_train, X_test, y_train, y_test = train_test_split(X, y, test_size=0.2)"
   ]
  },
  {
   "cell_type": "code",
   "execution_count": 7,
   "metadata": {},
   "outputs": [],
   "source": [
    "standardize = StandardScaler()\n",
    "\n",
    "standardized_X_test = standardize.fit_transform(X_test)\n",
    "\n",
    "standardized_X_train = standardize.fit_transform(X_train)"
   ]
  },
  {
   "cell_type": "code",
   "execution_count": 8,
   "metadata": {},
   "outputs": [
    {
     "data": {
      "text/plain": [
       "array([[-0.38631141,  1.18597176, -1.41881615, -1.27958918],\n",
       "       [-1.23431207,  0.1837421 , -1.29737682, -1.41867496],\n",
       "       [-0.38631141, -1.5701598 ,  0.03845579, -0.16690294],\n",
       "       [-1.51697895,  0.43429952, -1.23665715, -1.27958918],\n",
       "       [ 0.46168925, -0.06681531,  0.58493276,  0.38944018],\n",
       "       [-1.23431207, -1.5701598 , -0.20442287, -0.16690294],\n",
       "       [ 0.46168925, -0.56793014,  0.22061478,  0.2503544 ],\n",
       "       [-1.94097928,  0.43429952, -1.41881615, -1.27958918],\n",
       "       [ 0.03768892, -0.56793014,  0.88853108,  1.78029799],\n",
       "       [ 1.59235679,  0.1837421 ,  0.76709175,  0.52852596]])"
      ]
     },
     "execution_count": 8,
     "metadata": {},
     "output_type": "execute_result"
    }
   ],
   "source": [
    "standardized_X_test[0:10,]"
   ]
  },
  {
   "cell_type": "code",
   "execution_count": 13,
   "metadata": {},
   "outputs": [
    {
     "data": {
      "text/plain": [
       "array([1, 0, 2, 2, 0, 0, 1, 1, 1, 1, 2, 2, 2, 1, 0, 2, 1, 2, 1, 2, 1, 1,\n",
       "       0, 1, 2, 0, 0, 1, 2, 0, 2, 1, 2, 1, 1, 0, 2, 1, 0, 2, 2, 2, 0, 2,\n",
       "       2, 2, 1, 2, 0, 2, 0, 1, 0, 1, 0, 2, 1, 0, 1, 0, 0, 2, 1, 2, 2, 1,\n",
       "       1, 2, 0, 2, 0, 1, 0, 2, 1, 0, 0, 2, 0, 0, 1, 1, 1, 0, 2, 0, 2, 0,\n",
       "       2, 2, 0, 2, 2, 0, 0, 1, 1, 2, 2, 2, 0, 1, 0, 1, 2, 0, 1, 2, 2, 0,\n",
       "       0, 1, 1, 1, 2, 0, 0, 1, 0, 0])"
      ]
     },
     "execution_count": 13,
     "metadata": {},
     "output_type": "execute_result"
    }
   ],
   "source": [
    "y_train"
   ]
  },
  {
   "cell_type": "code",
   "execution_count": 12,
   "metadata": {},
   "outputs": [
    {
     "data": {
      "text/plain": [
       "array([1, 0, 2, 2, 0, 0, 1, 1, 1, 1, 2, 2, 2, 1, 0, 2, 1, 2, 1, 2, 1, 1,\n",
       "       0, 1, 2, 0, 0, 1, 2, 0, 2, 1, 2, 1, 1, 0, 2, 1, 0, 2, 2, 2, 0, 2,\n",
       "       2, 2, 1, 2, 0, 2, 0, 1, 0, 1, 0, 2, 1, 0, 1, 0, 0, 2, 1, 2, 2, 1,\n",
       "       1, 2, 0, 2, 0, 1, 0, 2, 1, 0, 0, 2, 0, 0, 1, 1, 1, 0, 2, 0, 2, 0,\n",
       "       2, 2, 0, 2, 2, 0, 0, 1, 1, 2, 2, 2, 0, 1, 0, 1, 2, 0, 1, 2, 2, 0,\n",
       "       0, 1, 1, 1, 2, 0, 0, 1, 0, 0])"
      ]
     },
     "execution_count": 12,
     "metadata": {},
     "output_type": "execute_result"
    }
   ],
   "source": [
    "y_train.ravel()"
   ]
  },
  {
   "cell_type": "code",
   "execution_count": 11,
   "metadata": {},
   "outputs": [
    {
     "data": {
      "text/plain": [
       "Perceptron(eta0=0.15, max_iter=50)"
      ]
     },
     "execution_count": 11,
     "metadata": {},
     "output_type": "execute_result"
    }
   ],
   "source": [
    "perceptron = Perceptron(max_iter=50, eta0=0.15, tol=1e-3)\n",
    "perceptron.fit(standardized_X_train, y_train)"
   ]
  },
  {
   "cell_type": "code",
   "execution_count": 14,
   "metadata": {},
   "outputs": [],
   "source": [
    "y_pred = perceptron.predict(standardized_X_test)"
   ]
  },
  {
   "cell_type": "code",
   "execution_count": 15,
   "metadata": {},
   "outputs": [
    {
     "name": "stdout",
     "output_type": "stream",
     "text": [
      "[0 0 1 0 1 1 1 0 2 1 2 2 0 1 0 2 1 1 0 1 0 2 2 2 0 0 1 1 1 2]\n"
     ]
    }
   ],
   "source": [
    "print(y_test)"
   ]
  },
  {
   "cell_type": "code",
   "execution_count": 16,
   "metadata": {},
   "outputs": [
    {
     "name": "stdout",
     "output_type": "stream",
     "text": [
      "[0 0 1 0 2 1 2 0 2 2 2 2 0 2 0 2 2 2 0 2 0 2 2 2 0 0 1 2 2 2]\n"
     ]
    }
   ],
   "source": [
    "print(y_pred)"
   ]
  },
  {
   "cell_type": "code",
   "execution_count": 17,
   "metadata": {},
   "outputs": [
    {
     "name": "stdout",
     "output_type": "stream",
     "text": [
      "              precision    recall  f1-score   support\n",
      "\n",
      "           0       1.00      1.00      1.00        10\n",
      "           1       1.00      0.25      0.40        12\n",
      "           2       0.47      1.00      0.64         8\n",
      "\n",
      "    accuracy                           0.70        30\n",
      "   macro avg       0.82      0.75      0.68        30\n",
      "weighted avg       0.86      0.70      0.66        30\n",
      "\n"
     ]
    }
   ],
   "source": [
    "print(classification_report(y_test, y_pred))"
   ]
  },
  {
   "cell_type": "code",
   "execution_count": 38,
   "metadata": {},
   "outputs": [
    {
     "name": "stdout",
     "output_type": "stream",
     "text": [
      "              precision    recall  f1-score   support\n",
      "\n",
      "           0       1.00      1.00      1.00        10\n",
      "           1       0.92      0.92      0.92        12\n",
      "           2       0.88      0.88      0.88         8\n",
      "\n",
      "    accuracy                           0.93        30\n",
      "   macro avg       0.93      0.93      0.93        30\n",
      "weighted avg       0.93      0.93      0.93        30\n",
      "\n"
     ]
    }
   ],
   "source": [
    "perceptron = Perceptron(max_iter=50, eta0=0.01, tol=1e-3)\n",
    "perceptron.fit(standardized_X_train, y_train)\n",
    "y_pred = perceptron.predict(standardized_X_test)\n",
    "print(classification_report(y_test, y_pred))"
   ]
  },
  {
   "cell_type": "code",
   "execution_count": null,
   "metadata": {},
   "outputs": [],
   "source": []
  }
 ],
 "metadata": {
  "kernelspec": {
   "display_name": "Python 3.7.4 64-bit",
   "language": "python",
   "name": "python37464bit0758c809402b4ef99780326ec3059626"
  },
  "language_info": {
   "codemirror_mode": {
    "name": "ipython",
    "version": 3
   },
   "file_extension": ".py",
   "mimetype": "text/x-python",
   "name": "python",
   "nbconvert_exporter": "python",
   "pygments_lexer": "ipython3",
   "version": "3.7.4"
  }
 },
 "nbformat": 4,
 "nbformat_minor": 2
}
