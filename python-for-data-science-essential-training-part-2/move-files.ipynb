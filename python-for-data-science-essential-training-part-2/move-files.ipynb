{
 "cells": [
  {
   "cell_type": "code",
   "execution_count": 28,
   "metadata": {},
   "outputs": [],
   "source": [
    "import shutil\n",
    "import os"
   ]
  },
  {
   "cell_type": "code",
   "execution_count": 40,
   "metadata": {},
   "outputs": [
    {
     "ename": "SyntaxError",
     "evalue": "invalid syntax (<ipython-input-40-af1364ee9422>, line 11)",
     "output_type": "error",
     "traceback": [
      "\u001b[0;36m  File \u001b[0;32m\"<ipython-input-40-af1364ee9422>\"\u001b[0;36m, line \u001b[0;32m11\u001b[0m\n\u001b[0;31m    if os.path.exists(folderpath)\u001b[0m\n\u001b[0m                                 ^\u001b[0m\n\u001b[0;31mSyntaxError\u001b[0m\u001b[0;31m:\u001b[0m invalid syntax\n"
     ]
    }
   ],
   "source": [
    "source = '/Users/sometheasiek/Documents/LearnToCode/Python-Playground/python-for-data-science-essential-training-part-2'\n",
    "\n",
    "files = os.listdir(source)\n",
    "\n",
    "for f in files:\n",
    "    if 'begin' in f or 'end' in f:\n",
    "        folderpath = f'{source}/{f}'\n",
    "        filepath = f'{folderpath}/{f}.ipynb'\n",
    "        if os.path.exists(filepath):\n",
    "            shutil.move(filepath, source)\n",
    "        if os.path.exists(folderpath):\n",
    "            shutil.rmtree(folderpath)"
   ]
  },
  {
   "cell_type": "code",
   "execution_count": null,
   "metadata": {},
   "outputs": [],
   "source": []
  }
 ],
 "metadata": {
  "kernelspec": {
   "display_name": "Python 3",
   "language": "python",
   "name": "python3"
  },
  "language_info": {
   "codemirror_mode": {
    "name": "ipython",
    "version": 3
   },
   "file_extension": ".py",
   "mimetype": "text/x-python",
   "name": "python",
   "nbconvert_exporter": "python",
   "pygments_lexer": "ipython3",
   "version": "3.7.3"
  }
 },
 "nbformat": 4,
 "nbformat_minor": 2
}
